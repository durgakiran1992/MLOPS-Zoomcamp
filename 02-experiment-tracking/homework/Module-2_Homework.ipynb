{
 "cells": [
  {
   "cell_type": "code",
   "execution_count": 3,
   "id": "c54c4206-1abb-43a1-be28-7ef1f34cd37f",
   "metadata": {},
   "outputs": [],
   "source": [
    "import mlflow\n"
   ]
  },
  {
   "cell_type": "markdown",
   "id": "f551e01b-8a8e-4088-85ae-96f6e4dcc50b",
   "metadata": {},
   "source": [
    "Q1. Install MLflow"
   ]
  },
  {
   "cell_type": "code",
   "execution_count": 5,
   "id": "b104d8d6-36f9-4324-8683-760245092df8",
   "metadata": {
    "scrolled": true
   },
   "outputs": [
    {
     "name": "stdout",
     "output_type": "stream",
     "text": [
      "mlflow, version 3.1.1\n"
     ]
    }
   ],
   "source": [
    "!mlflow --version"
   ]
  },
  {
   "cell_type": "code",
   "execution_count": null,
   "id": "a6f6e5a8-8ca9-44ba-823c-a85c0c6825b3",
   "metadata": {},
   "outputs": [],
   "source": []
  },
  {
   "cell_type": "markdown",
   "id": "bd1d210f-9933-4f33-9683-3ed34dd546b3",
   "metadata": {},
   "source": [
    "Q2. Download and preprocess the data"
   ]
  },
  {
   "cell_type": "code",
   "execution_count": 8,
   "id": "e98f98cf-bafb-4581-8e28-c3a81b6ddcfe",
   "metadata": {},
   "outputs": [],
   "source": [
    "!python preprocess_data.py --raw_data_path ./data --dest_path ./output\n"
   ]
  },
  {
   "cell_type": "markdown",
   "id": "c18da4ae-0d72-4144-a8cc-401d04a105af",
   "metadata": {},
   "source": [
    "How many files were saved to OUTPUT_FOLDER?- Total 4 files"
   ]
  },
  {
   "cell_type": "code",
   "execution_count": 9,
   "id": "775e94ae-0477-45c4-a6f4-e2cdd583a549",
   "metadata": {},
   "outputs": [
    {
     "name": "stdout",
     "output_type": "stream",
     "text": [
      "total 6.9M\n",
      "-rw-rw-rw- 1 codespace codespace 128K Jul 15 10:37 dv.pkl\n",
      "-rw-rw-rw- 1 codespace codespace 2.4M Jul 15 10:37 test.pkl\n",
      "-rw-rw-rw- 1 codespace codespace 2.3M Jul 15 10:37 train.pkl\n",
      "-rw-rw-rw- 1 codespace codespace 2.2M Jul 15 10:37 val.pkl\n"
     ]
    }
   ],
   "source": [
    "!ls -lh ./output\n"
   ]
  },
  {
   "cell_type": "code",
   "execution_count": null,
   "id": "fdd2707a-d0ab-4f3b-a695-aaf4d3921e20",
   "metadata": {},
   "outputs": [],
   "source": []
  },
  {
   "cell_type": "markdown",
   "id": "5b21494f-0812-40e2-bff4-345e225656fd",
   "metadata": {},
   "source": [
    "Q3. Train a model with autolog"
   ]
  },
  {
   "cell_type": "code",
   "execution_count": 14,
   "id": "e5afb572-2963-496d-8d41-c483da75b4ee",
   "metadata": {},
   "outputs": [
    {
     "name": "stdout",
     "output_type": "stream",
     "text": [
      "2025/07/15 12:11:45 INFO mlflow.store.db.utils: Creating initial MLflow database tables...\n",
      "2025/07/15 12:11:45 INFO mlflow.store.db.utils: Updating database tables\n",
      "INFO  [alembic.runtime.migration] Context impl SQLiteImpl.\n",
      "INFO  [alembic.runtime.migration] Will assume non-transactional DDL.\n",
      "INFO  [alembic.runtime.migration] Context impl SQLiteImpl.\n",
      "INFO  [alembic.runtime.migration] Will assume non-transactional DDL.\n",
      "✅ RMSE: 5.4312\n"
     ]
    }
   ],
   "source": [
    "!python train.py --data_path ./output\n"
   ]
  },
  {
   "cell_type": "code",
   "execution_count": 5,
   "id": "c4113b14-b09f-499d-8150-3fd5085760ef",
   "metadata": {},
   "outputs": [],
   "source": [
    "import mlflow\n",
    "from mlflow.tracking import MlflowClient\n"
   ]
  },
  {
   "cell_type": "code",
   "execution_count": 6,
   "id": "07a4302a-e1cb-47fe-a3ff-ca3e8727b72c",
   "metadata": {},
   "outputs": [],
   "source": [
    "mlflow.set_tracking_uri(\"sqlite:///mlflow.db\")\n",
    "# Get the experiment by name\n",
    "experiment_name = \"nyc-taxi-experiment-module-2\"\n",
    "client = MlflowClient()\n",
    "experiment = client.get_experiment_by_name(experiment_name)\n",
    "\n",
    "# Get the latest run from that experiment\n",
    "runs = client.search_runs(experiment_ids=[experiment.experiment_id],\n",
    "                          order_by=[\"start_time DESC\"],\n",
    "                          max_results=1)\n",
    "latest_run = runs[0]\n"
   ]
  },
  {
   "cell_type": "markdown",
   "id": "9f131086-ad1f-47f0-88c6-bd1a55a342e7",
   "metadata": {},
   "source": [
    "What is the value of the min_samples_split parameter:"
   ]
  },
  {
   "cell_type": "code",
   "execution_count": 7,
   "id": "b7faef30-e9e4-4754-afb9-366230480cc2",
   "metadata": {},
   "outputs": [
    {
     "name": "stdout",
     "output_type": "stream",
     "text": [
      "min_samples_split: 2\n"
     ]
    }
   ],
   "source": [
    "min_samples_split = latest_run.data.params.get(\"min_samples_split\")\n",
    "print(f\"min_samples_split: {min_samples_split}\")\n"
   ]
  },
  {
   "cell_type": "code",
   "execution_count": null,
   "id": "2b48fdb8-aaa8-4397-8c28-7c190a224c13",
   "metadata": {},
   "outputs": [],
   "source": []
  },
  {
   "cell_type": "markdown",
   "id": "3bb27f7a-ecd0-46f7-8f90-0d4a69d33ca7",
   "metadata": {},
   "source": [
    "Q5. Tune model hyperparameters"
   ]
  },
  {
   "cell_type": "code",
   "execution_count": 8,
   "id": "700f72a0-2004-46c3-9782-2a5de36cd53c",
   "metadata": {},
   "outputs": [
    {
     "name": "stdout",
     "output_type": "stream",
     "text": [
      "/usr/local/python/3.12.1/lib/python3.12/site-packages/hyperopt/atpe.py:19: UserWarning: pkg_resources is deprecated as an API. See https://setuptools.pypa.io/en/latest/pkg_resources.html. The pkg_resources package is slated for removal as early as 2025-11-30. Refrain from using this package or pin to Setuptools<81.\n",
      "  import pkg_resources\n",
      "2025/07/15 14:21:10 INFO mlflow.store.db.utils: Creating initial MLflow database tables...\n",
      "2025/07/15 14:21:10 INFO mlflow.store.db.utils: Updating database tables\n",
      "INFO  [alembic.runtime.migration] Context impl SQLiteImpl.\n",
      "INFO  [alembic.runtime.migration] Will assume non-transactional DDL.\n",
      "INFO  [alembic.runtime.migration] Context impl SQLiteImpl.\n",
      "INFO  [alembic.runtime.migration] Will assume non-transactional DDL.\n",
      "2025/07/15 14:21:10 INFO mlflow.tracking.fluent: Experiment with name 'random-forest-hyperopt' does not exist. Creating a new experiment.\n",
      "100%|██████████| 15/15 [01:10<00:00,  4.69s/trial, best loss: 5.335419588556921]\n"
     ]
    }
   ],
   "source": [
    "!python hpo.py"
   ]
  },
  {
   "cell_type": "code",
   "execution_count": null,
   "id": "1d8673b4-a55c-4e44-9abe-c2b602d489e8",
   "metadata": {},
   "outputs": [],
   "source": []
  },
  {
   "cell_type": "code",
   "execution_count": null,
   "id": "c21fd351-9d19-48c0-bd85-c8b7555430e8",
   "metadata": {},
   "outputs": [],
   "source": []
  },
  {
   "cell_type": "markdown",
   "id": "4770e369-4918-4368-939d-5d348568fdb6",
   "metadata": {},
   "source": [
    "Q6. Promote the best model to the model registry"
   ]
  },
  {
   "cell_type": "code",
   "execution_count": 10,
   "id": "54b52a94-cf08-4537-8b79-6fedc3cb3b52",
   "metadata": {},
   "outputs": [
    {
     "name": "stdout",
     "output_type": "stream",
     "text": [
      "2025/07/15 14:39:12 INFO mlflow.tracking.fluent: Experiment with name 'random-forest-best-models' does not exist. Creating a new experiment.\n",
      "2025/07/15 14:39:48 WARNING mlflow.models.model: `artifact_path` is deprecated. Please use `name` instead.\n",
      "\u001b[31m2025/07/15 14:39:51 WARNING mlflow.models.model: Model logged without a signature and input example. Please set `input_example` parameter when logging the model to auto infer the model signature.\u001b[0m\n",
      "🏃 View run respected-sheep-530 at: http://127.0.0.1:5000/#/experiments/3/runs/a086f4848b2f49aa84db8535091e9681\n",
      "🧪 View experiment at: http://127.0.0.1:5000/#/experiments/3\n",
      "2025/07/15 14:40:09 WARNING mlflow.models.model: `artifact_path` is deprecated. Please use `name` instead.\n",
      "\u001b[31m2025/07/15 14:40:12 WARNING mlflow.models.model: Model logged without a signature and input example. Please set `input_example` parameter when logging the model to auto infer the model signature.\u001b[0m\n",
      "🏃 View run industrious-owl-73 at: http://127.0.0.1:5000/#/experiments/3/runs/afbd74be893148bf8d44854281a37909\n",
      "🧪 View experiment at: http://127.0.0.1:5000/#/experiments/3\n",
      "2025/07/15 14:40:24 WARNING mlflow.models.model: `artifact_path` is deprecated. Please use `name` instead.\n",
      "\u001b[31m2025/07/15 14:40:26 WARNING mlflow.models.model: Model logged without a signature and input example. Please set `input_example` parameter when logging the model to auto infer the model signature.\u001b[0m\n",
      "🏃 View run righteous-cow-147 at: http://127.0.0.1:5000/#/experiments/3/runs/05ac197766c74704ae589d0aa10d7a67\n",
      "🧪 View experiment at: http://127.0.0.1:5000/#/experiments/3\n",
      "2025/07/15 14:40:38 WARNING mlflow.models.model: `artifact_path` is deprecated. Please use `name` instead.\n",
      "\u001b[31m2025/07/15 14:40:41 WARNING mlflow.models.model: Model logged without a signature and input example. Please set `input_example` parameter when logging the model to auto infer the model signature.\u001b[0m\n",
      "🏃 View run serious-mink-7 at: http://127.0.0.1:5000/#/experiments/3/runs/5ef8970435ee4d8689dd94d07f52b599\n",
      "🧪 View experiment at: http://127.0.0.1:5000/#/experiments/3\n",
      "2025/07/15 14:40:51 WARNING mlflow.models.model: `artifact_path` is deprecated. Please use `name` instead.\n",
      "\u001b[31m2025/07/15 14:40:54 WARNING mlflow.models.model: Model logged without a signature and input example. Please set `input_example` parameter when logging the model to auto infer the model signature.\u001b[0m\n",
      "🏃 View run suave-bear-329 at: http://127.0.0.1:5000/#/experiments/3/runs/e113497a21b3446aa301446a2a4d3e7a\n",
      "🧪 View experiment at: http://127.0.0.1:5000/#/experiments/3\n",
      "✅ Best run: a086f4848b2f49aa84db8535091e9681, test RMSE: 5.5674\n",
      "Successfully registered model 'random-forest-best'.\n",
      "2025/07/15 14:40:54 WARNING mlflow.tracking._model_registry.fluent: Run with id a086f4848b2f49aa84db8535091e9681 has no artifacts at artifact path 'model', registering model based on models:/m-0f7efcb1662d4605b9b90293f6db916d instead\n",
      "2025/07/15 14:40:54 INFO mlflow.store.model_registry.abstract_store: Waiting up to 300 seconds for model version to finish creation. Model name: random-forest-best, version 1\n",
      "Created version '1' of model 'random-forest-best'.\n"
     ]
    }
   ],
   "source": [
    "!python register_model.py"
   ]
  },
  {
   "cell_type": "code",
   "execution_count": 11,
   "id": "248c971c-6179-4a70-8ae0-c307dbf5b2d8",
   "metadata": {},
   "outputs": [
    {
     "name": "stdout",
     "output_type": "stream",
     "text": [
      "2025/07/15 14:43:33 WARNING mlflow.models.model: `artifact_path` is deprecated. Please use `name` instead.\n",
      "\u001b[31m2025/07/15 14:43:36 WARNING mlflow.models.model: Model logged without a signature and input example. Please set `input_example` parameter when logging the model to auto infer the model signature.\u001b[0m\n",
      "🏃 View run flawless-perch-299 at: http://127.0.0.1:5000/#/experiments/3/runs/58fd7f12dbe243e4a59f89c96a14747b\n",
      "🧪 View experiment at: http://127.0.0.1:5000/#/experiments/3\n",
      "2025/07/15 14:43:52 WARNING mlflow.models.model: `artifact_path` is deprecated. Please use `name` instead.\n",
      "\u001b[31m2025/07/15 14:43:55 WARNING mlflow.models.model: Model logged without a signature and input example. Please set `input_example` parameter when logging the model to auto infer the model signature.\u001b[0m\n",
      "🏃 View run languid-shad-595 at: http://127.0.0.1:5000/#/experiments/3/runs/70dc65200aa84610880418ffbf1ad54f\n",
      "🧪 View experiment at: http://127.0.0.1:5000/#/experiments/3\n",
      "2025/07/15 14:44:06 WARNING mlflow.models.model: `artifact_path` is deprecated. Please use `name` instead.\n",
      "\u001b[31m2025/07/15 14:44:09 WARNING mlflow.models.model: Model logged without a signature and input example. Please set `input_example` parameter when logging the model to auto infer the model signature.\u001b[0m\n",
      "🏃 View run serious-lamb-23 at: http://127.0.0.1:5000/#/experiments/3/runs/5933a92fa8d644e8a58625295c2f937b\n",
      "🧪 View experiment at: http://127.0.0.1:5000/#/experiments/3\n",
      "2025/07/15 14:44:21 WARNING mlflow.models.model: `artifact_path` is deprecated. Please use `name` instead.\n",
      "\u001b[31m2025/07/15 14:44:23 WARNING mlflow.models.model: Model logged without a signature and input example. Please set `input_example` parameter when logging the model to auto infer the model signature.\u001b[0m\n",
      "🏃 View run clumsy-goat-15 at: http://127.0.0.1:5000/#/experiments/3/runs/5253cf2b47a24ef2a3dcd9ebcfc013d3\n",
      "🧪 View experiment at: http://127.0.0.1:5000/#/experiments/3\n",
      "2025/07/15 14:44:34 WARNING mlflow.models.model: `artifact_path` is deprecated. Please use `name` instead.\n",
      "\u001b[31m2025/07/15 14:44:36 WARNING mlflow.models.model: Model logged without a signature and input example. Please set `input_example` parameter when logging the model to auto infer the model signature.\u001b[0m\n",
      "🏃 View run stylish-roo-578 at: http://127.0.0.1:5000/#/experiments/3/runs/7300b82de32c4254bcdf1dad1cbdf1cb\n",
      "🧪 View experiment at: http://127.0.0.1:5000/#/experiments/3\n",
      "✅ Best run: 58fd7f12dbe243e4a59f89c96a14747b, test RMSE: 5.5674\n",
      "Registered model 'random-forest-best' already exists. Creating a new version of this model...\n",
      "2025/07/15 14:44:37 WARNING mlflow.tracking._model_registry.fluent: Run with id 58fd7f12dbe243e4a59f89c96a14747b has no artifacts at artifact path 'model', registering model based on models:/m-52f8e57de2ab476f854a7a600da5cd93 instead\n",
      "2025/07/15 14:44:37 INFO mlflow.store.model_registry.abstract_store: Waiting up to 300 seconds for model version to finish creation. Model name: random-forest-best, version 2\n",
      "Created version '2' of model 'random-forest-best'.\n"
     ]
    }
   ],
   "source": [
    "!python register_model.py --data_path ./output\n"
   ]
  },
  {
   "cell_type": "code",
   "execution_count": null,
   "id": "acd45805-c1eb-4450-bbc6-51fc4712c446",
   "metadata": {},
   "outputs": [],
   "source": []
  }
 ],
 "metadata": {
  "kernelspec": {
   "display_name": "Python (MLflow Env)",
   "language": "python",
   "name": "mlflow-env"
  },
  "language_info": {
   "codemirror_mode": {
    "name": "ipython",
    "version": 3
   },
   "file_extension": ".py",
   "mimetype": "text/x-python",
   "name": "python",
   "nbconvert_exporter": "python",
   "pygments_lexer": "ipython3",
   "version": "3.12.1"
  }
 },
 "nbformat": 4,
 "nbformat_minor": 5
}
